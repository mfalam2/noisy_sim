{
 "cells": [
  {
   "cell_type": "code",
   "execution_count": 2,
   "id": "9f8dafaa",
   "metadata": {
    "ExecuteTime": {
     "end_time": "2023-08-21T16:49:38.479978Z",
     "start_time": "2023-08-21T16:49:37.377135Z"
    }
   },
   "outputs": [],
   "source": [
    "from noisy_trotter import *\n",
    "import matplotlib.pyplot as plt"
   ]
  },
  {
   "cell_type": "code",
   "execution_count": 3,
   "id": "0a0b6709",
   "metadata": {
    "ExecuteTime": {
     "end_time": "2023-08-21T16:49:38.519503Z",
     "start_time": "2023-08-21T16:49:38.483557Z"
    }
   },
   "outputs": [
    {
     "data": {
      "text/plain": [
       "array([[ 0.+0.j, -0.+0.j, -0.+0.j, -0.+0.j],\n",
       "       [-0.-0.j,  0.+0.j, -0.+0.j, -0.+0.j],\n",
       "       [-0.-0.j, -0.+0.j,  0.+0.j,  0.+0.j],\n",
       "       [-0.+0.j, -0.-0.j,  0.+0.j,  0.+0.j]])"
      ]
     },
     "execution_count": 3,
     "metadata": {},
     "output_type": "execute_result"
    }
   ],
   "source": [
    "### Test exact simulation\n",
    "num_qubits = 2\n",
    "theta = np.pi/4\n",
    "\n",
    "# gates are tuples (superoperator, [first qubit it acts on, second qubit it acts on])\n",
    "# circuit is a list of gates, with leftmost gate acting on state first\n",
    "gate1 = (exact_rz(theta), [0,])\n",
    "gate2 = (exact_rz(theta), [1,])\n",
    "circ = [gate1, gate2]\n",
    "\n",
    "# states can be vectors or density matrices\n",
    "init_state = np.random.rand(2**num_qubits) \n",
    "init_state = init_state / np.linalg.norm(init_state)\n",
    "\n",
    "a=circuit_action(circ, init_state)\n",
    "rz = np.array([[np.exp(-1.j*theta/2), 0], [0, np.exp(1.j*theta/2)]])\n",
    "target_state = np.kron(rz,rz) @ init_state\n",
    "b=np.outer(target_state, target_state.conj().T)\n",
    "\n",
    "a-b"
   ]
  },
  {
   "cell_type": "code",
   "execution_count": 4,
   "id": "c621fa4b",
   "metadata": {
    "ExecuteTime": {
     "end_time": "2023-08-21T16:49:38.534798Z",
     "start_time": "2023-08-21T16:49:38.519503Z"
    }
   },
   "outputs": [
    {
     "data": {
      "text/plain": [
       "(0.9946596262931248+0j)"
      ]
     },
     "execution_count": 4,
     "metadata": {},
     "output_type": "execute_result"
    }
   ],
   "source": [
    "### Test noisy simulation\n",
    "num_qubits = 2\n",
    "init_state = np.zeros(2**num_qubits) \n",
    "init_state[0] = 1.0 \n",
    "\n",
    "# first run the exact circuit\n",
    "gate1 = (exact_x, [0,]) \n",
    "gate2 = (exact_cx_top, [0,1])\n",
    "circ = [gate1, gate2]\n",
    "exact_state = circuit_action(circ, init_state)\n",
    "\n",
    "# now run the noisy circuit\n",
    "gate1 = (noisy_x, [0,]) \n",
    "gate2 = (noisy_cx_top, [0,1])\n",
    "circ = [gate1, gate2]\n",
    "noisy_state = circuit_action(circ, init_state)\n",
    "\n",
    "# now compare\n",
    "fidelity(exact_state, noisy_state)"
   ]
  },
  {
   "cell_type": "code",
   "execution_count": 5,
   "id": "da60ee88",
   "metadata": {
    "ExecuteTime": {
     "end_time": "2023-08-21T16:49:38.565430Z",
     "start_time": "2023-08-21T16:49:38.534798Z"
    }
   },
   "outputs": [
    {
     "data": {
      "text/plain": [
       "(0.9882104525420845+1.805661305305994e-07j)"
      ]
     },
     "execution_count": 5,
     "metadata": {},
     "output_type": "execute_result"
    }
   ],
   "source": [
    "### Test compilation of XY interation in terms of noisy superoperators\n",
    "num_qubits = 2\n",
    "t = 0.5\n",
    "init_state = np.zeros(2**num_qubits)\n",
    "init_state[int('10'*(num_qubits//2),2)] = 1.0 # Neel state\n",
    "\n",
    "# first do exact evolution\n",
    "ham = xy_ham(num_qubits)\n",
    "exact_state = expm(-1.j*t*ham) @ init_state\n",
    "exact_state = np.outer(exact_state, exact_state.conj())\n",
    "\n",
    "# now do noisy Trotter evolution\n",
    "circ = xy_gate_noisy(t, 0, 1)\n",
    "noisy_state = circuit_action(circ, init_state)\n",
    "\n",
    "# now compare\n",
    "fidelity(exact_state, noisy_state)  ## note the significant imaginary part is because the noisy model is not exactly CPTP"
   ]
  },
  {
   "cell_type": "code",
   "execution_count": 6,
   "id": "aa73c313",
   "metadata": {
    "ExecuteTime": {
     "end_time": "2023-08-21T16:52:31.580496Z",
     "start_time": "2023-08-21T16:49:38.573795Z"
    }
   },
   "outputs": [
    {
     "name": "stderr",
     "output_type": "stream",
     "text": [
      "100%|████████████████████████████████████████████████████████████████████████████████████| 9/9 [02:51<00:00, 19.04s/it]\n"
     ]
    }
   ],
   "source": [
    "### Find optimal step size for 10 qubit first order Trotter\n",
    "num_qubits = 10\n",
    "init_state = np.zeros(2**num_qubits)\n",
    "init_state[int('10'*(num_qubits//2),2)] = 1.0 \n",
    "total_time = 1.0\n",
    "num_step_opts = np.arange(1,10)\n",
    "output_file = '10q_1.pickle'\n",
    "optimal_step(num_qubits, init_state, total_time, num_step_opts, output_file)"
   ]
  },
  {
   "cell_type": "code",
   "execution_count": 7,
   "id": "c6c79882",
   "metadata": {
    "ExecuteTime": {
     "end_time": "2023-08-21T16:52:31.596616Z",
     "start_time": "2023-08-21T16:52:31.583513Z"
    }
   },
   "outputs": [],
   "source": [
    "with open('10q_1.pickle', 'rb') as f:\n",
    "    fidelity_list = pickle.load(f)"
   ]
  },
  {
   "cell_type": "code",
   "execution_count": 8,
   "id": "6311c39a",
   "metadata": {
    "ExecuteTime": {
     "end_time": "2023-08-21T16:52:31.812206Z",
     "start_time": "2023-08-21T16:52:31.596616Z"
    }
   },
   "outputs": [
    {
     "data": {
      "text/plain": [
       "Text(0.5, 1.0, '10 qubits, T=1.0')"
      ]
     },
     "execution_count": 8,
     "metadata": {},
     "output_type": "execute_result"
    },
    {
     "data": {
      "image/png": "[encoded data removed]",
      "text/plain": [
       "<Figure size 432x288 with 1 Axes>"
      ]
     },
     "metadata": {
      "needs_background": "light"
     },
     "output_type": "display_data"
    }
   ],
   "source": [
    "plt.plot(num_step_opts, fidelity_list)\n",
    "plt.xlabel('num steps')\n",
    "plt.ylabel('fidelity')\n",
    "plt.title('10 qubits, T=1.0')"
   ]
  },
  {
   "cell_type": "code",
   "execution_count": null,
   "id": "6c497b28",
   "metadata": {},
   "outputs": [],
   "source": []
  }
 ],
 "metadata": {
  "kernelspec": {
   "display_name": "Python [conda env:snowflakes] *",
   "language": "python",
   "name": "conda-env-snowflakes-py"
  },
  "language_info": {
   "codemirror_mode": {
    "name": "ipython",
    "version": 3
   },
   "file_extension": ".py",
   "mimetype": "text/x-python",
   "name": "python",
   "nbconvert_exporter": "python",
   "pygments_lexer": "ipython3",
   "version": "3.9.13"
  },
  "toc": {
   "base_numbering": 1,
   "nav_menu": {},
   "number_sections": true,
   "sideBar": true,
   "skip_h1_title": false,
   "title_cell": "Table of Contents",
   "title_sidebar": "Contents",
   "toc_cell": false,
   "toc_position": {},
   "toc_section_display": true,
   "toc_window_display": false
  }
 },
 "nbformat": 4,
 "nbformat_minor": 5
}

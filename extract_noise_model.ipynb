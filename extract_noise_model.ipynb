{
 "cells": [
  {
   "cell_type": "code",
   "execution_count": 1,
   "id": "c606b831",
   "metadata": {
    "ExecuteTime": {
     "end_time": "2023-08-15T14:16:56.545099Z",
     "start_time": "2023-08-15T14:16:56.529183Z"
    }
   },
   "outputs": [],
   "source": [
    "# extracts noise model from a real IBM device as superoperators representing a noisy gate set\n",
    "# It's simplest to run this notebook on IBM Quantum Lab\n",
    "# Otherwise you have to track down the info necessary for IBMProvider "
   ]
  },
  {
   "cell_type": "code",
   "execution_count": null,
   "id": "5585b2c0",
   "metadata": {},
   "outputs": [],
   "source": [
    "from qiskit_ibm_provider import IBMProvider\n",
    "from qiskit_aer.noise import NoiseModel\n",
    "import qiskit.quantum_info as qi\n",
    "import numpy as np\n",
    "import pickle "
   ]
  },
  {
   "cell_type": "code",
   "execution_count": null,
   "id": "886ee4e5",
   "metadata": {},
   "outputs": [],
   "source": [
    "# get noise model\n",
    "provider = IBMProvider()\n",
    "be = provider.get_backend(\"ibm_perth\")\n",
    "nm = NoiseModel.from_backend(be)\n",
    "\n",
    "print(nm)"
   ]
  },
  {
   "cell_type": "code",
   "execution_count": null,
   "id": "1eafb553",
   "metadata": {},
   "outputs": [],
   "source": [
    "# superoperator for noisy cx controlled on top qubit \n",
    "cx_top = np.array([[1,0,0,0],[0,1,0,0],[0,0,0,1],[0,0,1,0]])\n",
    "exact_cx_top = np.kron(cx_top, cx_top.conj().T)    # the superoperator for a unitary channel, U, is simply (U \\otimes U^d)\n",
    "noise = nm._local_quantum_errors['cx'][(0,1)]\n",
    "probs, circuits = noise.probabilities, noise.circuits \n",
    "noise_op = np.array(sum([probs[i] * qi.SuperOp(circuits[i]) for i in range(len(probs))]))\n",
    "noisy_cx_top = noise_op @ exact_cx_top\n",
    "\n",
    "# superoperator for noisy cx controlled on bottom qubit\n",
    "cx_bottom = np.array([[1,0,0,0],[0,0,0,1],[0,0,1,0],[0,1,0,0]])\n",
    "exact_cx_bottom = np.kron(cx_bottom, cx_bottom.conj().T)\n",
    "noise = nm._local_quantum_errors['cx'][(1,0)]\n",
    "probs, circuits = noise.probabilities, noise.circuits \n",
    "noise_op = np.array(sum([probs[i] * qi.SuperOp(circuits[i]) for i in range(len(probs))]))\n",
    "noisy_cx_bottom = noise_op @ exact_cx_bottom\n",
    "\n",
    "# superoperator for noisy x\n",
    "x = np.array([[0,1],[1,0]])\n",
    "exact_x = np.kron(x,x.conj().T)\n",
    "noise = nm._local_quantum_errors['x'][(0,)]\n",
    "probs, circuits = noise.probabilities, noise.circuits \n",
    "noise_op = np.array(sum([probs[i] * qi.SuperOp(circuits[i]) for i in range(len(probs))]))\n",
    "noisy_x = noise_op @ exact_x\n",
    "\n",
    "# superoperator for noisy sx\n",
    "sx = (1/2)*np.array([[1+1.j,1-1.j],[1-1.j,1+1.j]])\n",
    "exact_sx = np.kron(sx,sx.conj().T)\n",
    "noise = nm._local_quantum_errors['sx'][(0,)]\n",
    "probs, circuits = noise.probabilities, noise.circuits \n",
    "noise_op = np.array(sum([probs[i] * qi.SuperOp(circuits[i]) for i in range(len(probs))]))\n",
    "noisy_sx = noise_op @ exact_sx\n",
    "\n",
    "# note that Rz gates are also a part of the IBM gateset but do not accrue errors \n",
    "# since they are applied virtually in classical software"
   ]
  },
  {
   "cell_type": "code",
   "execution_count": null,
   "id": "b31ac338",
   "metadata": {},
   "outputs": [],
   "source": [
    "pickle_out = open('ibm_perth_gates.pickle', 'wb')\n",
    "pickle.dump([exact_cx_top, noisy_cx_top, exact_cx_bottom, noisy_cx_bottom, exact_x, noisy_x, exact_sx, noisy_sx], pickle_out)\n",
    "pickle_out.close()"
   ]
  }
 ],
 "metadata": {
  "kernelspec": {
   "display_name": "Python 3 (ipykernel)",
   "language": "python",
   "name": "python3"
  },
  "language_info": {
   "codemirror_mode": {
    "name": "ipython",
    "version": 3
   },
   "file_extension": ".py",
   "mimetype": "text/x-python",
   "name": "python",
   "nbconvert_exporter": "python",
   "pygments_lexer": "ipython3",
   "version": "3.9.13"
  },
  "toc": {
   "base_numbering": 1,
   "nav_menu": {},
   "number_sections": true,
   "sideBar": true,
   "skip_h1_title": false,
   "title_cell": "Table of Contents",
   "title_sidebar": "Contents",
   "toc_cell": false,
   "toc_position": {},
   "toc_section_display": true,
   "toc_window_display": false
  }
 },
 "nbformat": 4,
 "nbformat_minor": 5
}
